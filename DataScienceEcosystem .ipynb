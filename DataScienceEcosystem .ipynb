{
 "cells": [
  {
   "cell_type": "markdown",
   "id": "a8ce9f43-1f16-420c-b3fb-3edacde51b3c",
   "metadata": {},
   "source": [
    "# DataScienceEcosystem"
   ]
  },
  {
   "cell_type": "code",
   "execution_count": 43,
   "id": "5758c800-4a4b-4592-9b4c-085840e6b919",
   "metadata": {
    "scrolled": true
   },
   "outputs": [
    {
     "name": "stdout",
     "output_type": "stream",
     "text": [
      "In this notebook, Data Science Tools and Ecosystem are summarized.\n"
     ]
    }
   ],
   "source": [
    "print(\"In this notebook, Data Science Tools and Ecosystem are summarized.\")"
   ]
  },
  {
   "cell_type": "markdown",
   "id": "8a45f792-8c48-41b8-ad2e-ddecbec9d4c8",
   "metadata": {},
   "source": [
    "**Objectives:**\n",
    "- Popular languages that Data Scientists use\n",
    "- Commonly used libraries by Data Scientists\n",
    "- Arithemtic expressions' examples"
   ]
  },
  {
   "cell_type": "code",
   "execution_count": 7,
   "id": "34e56e0f-466b-450d-8715-ab5605b7c0fc",
   "metadata": {},
   "outputs": [
    {
     "name": "stdout",
     "output_type": "stream",
     "text": [
      "Some of the popular languages that Data Scientists use are:\n"
     ]
    }
   ],
   "source": [
    "print (\"Some of the popular languages that Data Scientists use are:\")"
   ]
  },
  {
   "cell_type": "markdown",
   "id": "9b589aa0-1e7a-46a7-8784-00c812478432",
   "metadata": {},
   "source": [
    "1. Python\n",
    "2. R\n",
    "3. SQL\n",
    "4. Julia"
   ]
  },
  {
   "cell_type": "code",
   "execution_count": 10,
   "id": "dc68a0bb-7e55-498b-aec7-532d5eb283c7",
   "metadata": {},
   "outputs": [
    {
     "name": "stdout",
     "output_type": "stream",
     "text": [
      "Some of the commonly used libraries used by Data Scientists include:\n"
     ]
    }
   ],
   "source": [
    "print(\"Some of the commonly used libraries used by Data Scientists include:\")"
   ]
  },
  {
   "cell_type": "markdown",
   "id": "6297edb8-84aa-4672-abd8-5789719e7a7e",
   "metadata": {},
   "source": [
    "1- NumPy\n",
    "2- Pandas\n",
    "3- Matplotlib"
   ]
  },
  {
   "cell_type": "markdown",
   "id": "f9d3d6bb-13f6-41c4-ad55-c66f893cb9ed",
   "metadata": {
    "jupyter": {
     "source_hidden": true
    }
   },
   "source": [
    "| Data Science Tools |\n",
    "|--------------------|\n",
    "| Jupyter Notebook   |\n",
    "| VS Code​           |\n",
    "| Anaconda           |\n"
   ]
  },
  {
   "cell_type": "markdown",
   "id": "c506844a-46ac-459e-85ed-84ea0e68239a",
   "metadata": {},
   "source": [
    "### Below are a few examples of evaluating arithmetic expressions in Python."
   ]
  },
  {
   "cell_type": "code",
   "execution_count": 26,
   "id": "b826b370-bfc3-43a6-ae3d-5c93fb6dc200",
   "metadata": {
    "scrolled": true
   },
   "outputs": [
    {
     "data": {
      "text/plain": [
       "17"
      ]
     },
     "execution_count": 26,
     "metadata": {},
     "output_type": "execute_result"
    }
   ],
   "source": [
    "#This a simple arithmetic expression to mutiply then add integers\n",
    "result = (3*4)+5\n",
    "result"
   ]
  },
  {
   "cell_type": "code",
   "execution_count": 40,
   "id": "692295b6-8c16-47e3-ba07-a9a708a7939b",
   "metadata": {
    "collapsed": true,
    "jupyter": {
     "outputs_hidden": true
    }
   },
   "outputs": [
    {
     "data": {
      "text/plain": [
       "3.3333333333333335"
      ]
     },
     "execution_count": 40,
     "metadata": {},
     "output_type": "execute_result"
    }
   ],
   "source": [
    "#This will convert 200 minutes to hours by diving by 60\n",
    "mins = 200\n",
    "result = mins/60\n",
    "result"
   ]
  },
  {
   "cell_type": "markdown",
   "id": "71d7ccc0-61a5-435b-89fe-443d72526386",
   "metadata": {},
   "source": [
    "## Author\n",
    "Omar"
   ]
  },
  {
   "cell_type": "code",
   "execution_count": null,
   "id": "8f91d3bd-c246-458e-8738-df29162a74b2",
   "metadata": {},
   "outputs": [],
   "source": []
  }
 ],
 "metadata": {
  "kernelspec": {
   "display_name": "Python 3 (ipykernel)",
   "language": "python",
   "name": "python3"
  },
  "language_info": {
   "codemirror_mode": {
    "name": "ipython",
    "version": 3
   },
   "file_extension": ".py",
   "mimetype": "text/x-python",
   "name": "python",
   "nbconvert_exporter": "python",
   "pygments_lexer": "ipython3",
   "version": "3.12.7"
  }
 },
 "nbformat": 4,
 "nbformat_minor": 5
}
